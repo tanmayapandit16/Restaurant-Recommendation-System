{
 "cells": [
  {
   "cell_type": "code",
   "execution_count": 1,
   "id": "64bea0a6",
   "metadata": {},
   "outputs": [],
   "source": [
    "import pandas as pd\n",
    "import numpy as np\n",
    "import nltk\n",
    "import ast"
   ]
  },
  {
   "cell_type": "code",
   "execution_count": 2,
   "id": "23375316",
   "metadata": {},
   "outputs": [],
   "source": [
    "import pickle\n",
    "import re"
   ]
  },
  {
   "cell_type": "code",
   "execution_count": 19,
   "id": "6e64b014",
   "metadata": {},
   "outputs": [],
   "source": [
    "hotels = pd.read_csv('zomato_outlet_final.csv')"
   ]
  },
  {
   "cell_type": "code",
   "execution_count": 20,
   "id": "eaeeb137",
   "metadata": {},
   "outputs": [],
   "source": [
    "hotels = hotels[['rest_name','rest_type','loc','dine_rating','dine_reviews','cuisine','cost','liked','link']]"
   ]
  },
  {
   "cell_type": "code",
   "execution_count": 81,
   "id": "69b63f39",
   "metadata": {},
   "outputs": [
    {
     "data": {
      "text/html": [
       "<div>\n",
       "<style scoped>\n",
       "    .dataframe tbody tr th:only-of-type {\n",
       "        vertical-align: middle;\n",
       "    }\n",
       "\n",
       "    .dataframe tbody tr th {\n",
       "        vertical-align: top;\n",
       "    }\n",
       "\n",
       "    .dataframe thead th {\n",
       "        text-align: right;\n",
       "    }\n",
       "</style>\n",
       "<table border=\"1\" class=\"dataframe\">\n",
       "  <thead>\n",
       "    <tr style=\"text-align: right;\">\n",
       "      <th></th>\n",
       "      <th>rest_name</th>\n",
       "      <th>rest_type</th>\n",
       "      <th>loc</th>\n",
       "      <th>dine_rating</th>\n",
       "      <th>dine_reviews</th>\n",
       "      <th>cuisine</th>\n",
       "      <th>cost</th>\n",
       "      <th>liked</th>\n",
       "      <th>link</th>\n",
       "      <th>tags</th>\n",
       "    </tr>\n",
       "  </thead>\n",
       "  <tbody>\n",
       "    <tr>\n",
       "      <th>0</th>\n",
       "      <td>Mix@36 - The Westin                           ...</td>\n",
       "      <td>[Lounge]</td>\n",
       "      <td>[TheWestin, Mundhwa]</td>\n",
       "      <td>[4.2]</td>\n",
       "      <td>[707]</td>\n",
       "      <td>[NorthIndian, Continental, Asian]</td>\n",
       "      <td>[4300]</td>\n",
       "      <td>[Cocktails, Chaat, Beer]</td>\n",
       "      <td>https://www.zomato.com/pune/mix@36-the-westin-...</td>\n",
       "      <td>[Lounge, TheWestin, Mundhwa, NorthIndian, Cont...</td>\n",
       "    </tr>\n",
       "    <tr>\n",
       "      <th>1</th>\n",
       "      <td>Kangan - The Westin                           ...</td>\n",
       "      <td>[FineDining]</td>\n",
       "      <td>[TheWestin, Mundhwa]</td>\n",
       "      <td>[4.1]</td>\n",
       "      <td>[344]</td>\n",
       "      <td>[NorthIndian, Mughlai, ]</td>\n",
       "      <td>[3500]</td>\n",
       "      <td>[Biryani, VegPlatter, DalMakhani]</td>\n",
       "      <td>https://www.zomato.com/pune/kangan-the-westin-...</td>\n",
       "      <td>[FineDining, TheWestin, Mundhwa, NorthIndian, ...</td>\n",
       "    </tr>\n",
       "    <tr>\n",
       "      <th>2</th>\n",
       "      <td>Coriander Kitchen - Conrad Pune               ...</td>\n",
       "      <td>[FineDining]</td>\n",
       "      <td>[ConradPune, BundGardenRoad]</td>\n",
       "      <td>[4.5]</td>\n",
       "      <td>[541]</td>\n",
       "      <td>[Mediterranean, Asian, NorthIndian]</td>\n",
       "      <td>[3200]</td>\n",
       "      <td>[Pasta, Panipuri, Waffles]</td>\n",
       "      <td>https://www.zomato.com/pune/coriander-kitchen-...</td>\n",
       "      <td>[FineDining, ConradPune, BundGardenRoad, Medit...</td>\n",
       "    </tr>\n",
       "    <tr>\n",
       "      <th>3</th>\n",
       "      <td>The Market - The Westin                       ...</td>\n",
       "      <td>[FineDining]</td>\n",
       "      <td>[TheWestin, Mundhwa]</td>\n",
       "      <td>[4.0]</td>\n",
       "      <td>[55]</td>\n",
       "      <td>[Asian, European, NorthIndian]</td>\n",
       "      <td>[3200]</td>\n",
       "      <td>[VanillaIceCream, Chaat, Sushi]</td>\n",
       "      <td>https://www.zomato.com/pune/the-market-the-wes...</td>\n",
       "      <td>[FineDining, TheWestin, Mundhwa, Asian, Europe...</td>\n",
       "    </tr>\n",
       "    <tr>\n",
       "      <th>4</th>\n",
       "      <td>Vandaag - Vivanta Pune                        ...</td>\n",
       "      <td>[Pub, CasualDining]</td>\n",
       "      <td>[VivantaPune, Hinjewadi]</td>\n",
       "      <td>[3.9]</td>\n",
       "      <td>[113]</td>\n",
       "      <td>[FingerFood, Continental, ]</td>\n",
       "      <td>[3100]</td>\n",
       "      <td>[Cocktails, Beer, PeriPeriChicken]</td>\n",
       "      <td>https://www.zomato.com/pune/vandaag-vivanta-pu...</td>\n",
       "      <td>[Pub, CasualDining, VivantaPune, Hinjewadi, Fi...</td>\n",
       "    </tr>\n",
       "    <tr>\n",
       "      <th>...</th>\n",
       "      <td>...</td>\n",
       "      <td>...</td>\n",
       "      <td>...</td>\n",
       "      <td>...</td>\n",
       "      <td>...</td>\n",
       "      <td>...</td>\n",
       "      <td>...</td>\n",
       "      <td>...</td>\n",
       "      <td>...</td>\n",
       "      <td>...</td>\n",
       "    </tr>\n",
       "    <tr>\n",
       "      <th>1567</th>\n",
       "      <td>Awadh E Malwa                                 ...</td>\n",
       "      <td>[QuickBites]</td>\n",
       "      <td>[Bavdhan]</td>\n",
       "      <td>[4.0]</td>\n",
       "      <td>[190]</td>\n",
       "      <td>[Biryani, Awadhi, NorthIndian]</td>\n",
       "      <td>[600]</td>\n",
       "      <td>[ChickenMasala, CreamChicken, ButterChicken]</td>\n",
       "      <td>https://www.zomato.com/pune/awadh-e-malwa-bavdhan</td>\n",
       "      <td>[QuickBites, Bavdhan, Biryani, Awadhi, NorthIn...</td>\n",
       "    </tr>\n",
       "    <tr>\n",
       "      <th>1568</th>\n",
       "      <td>Anandi Dining Hall                            ...</td>\n",
       "      <td>[CasualDining]</td>\n",
       "      <td>[SinhgadRoad]</td>\n",
       "      <td>[3.6]</td>\n",
       "      <td>[64]</td>\n",
       "      <td>[Maharashtrian, ]</td>\n",
       "      <td>[400]</td>\n",
       "      <td>[VegThali]</td>\n",
       "      <td>https://www.zomato.com/pune/anandi-dining-hall...</td>\n",
       "      <td>[CasualDining, SinhgadRoad, Maharashtrian, , V...</td>\n",
       "    </tr>\n",
       "    <tr>\n",
       "      <th>1569</th>\n",
       "      <td>The Irani Cafe Restaurant                     ...</td>\n",
       "      <td>[CasualDining]</td>\n",
       "      <td>[VimanNagar]</td>\n",
       "      <td>[2.9]</td>\n",
       "      <td>[80]</td>\n",
       "      <td>[Mughlai, Iranian, ]</td>\n",
       "      <td>[800]</td>\n",
       "      <td>[Naan, MuttonKeema, DumBiryani]</td>\n",
       "      <td>https://www.zomato.com/pune/the-irani-cafe-res...</td>\n",
       "      <td>[CasualDining, VimanNagar, Mughlai, Iranian, ,...</td>\n",
       "    </tr>\n",
       "    <tr>\n",
       "      <th>1570</th>\n",
       "      <td>Hotel Shilpa Gavran                           ...</td>\n",
       "      <td>[CasualDining]</td>\n",
       "      <td>[Pimpri]</td>\n",
       "      <td>[3.8]</td>\n",
       "      <td>[90]</td>\n",
       "      <td>[Chinese, FastFood, NorthIndian]</td>\n",
       "      <td>[500]</td>\n",
       "      <td>[MuttonThali, ChickenSukha]</td>\n",
       "      <td>https://www.zomato.com/pune/hotel-shilpa-gavra...</td>\n",
       "      <td>[CasualDining, Pimpri, Chinese, FastFood, Nort...</td>\n",
       "    </tr>\n",
       "    <tr>\n",
       "      <th>1571</th>\n",
       "      <td>Liyo China</td>\n",
       "      <td>[CasualDining]</td>\n",
       "      <td>[B.T.KawadeRoad]</td>\n",
       "      <td>[3.6]</td>\n",
       "      <td>[97]</td>\n",
       "      <td>[Thai, Chinese, ]</td>\n",
       "      <td>[500]</td>\n",
       "      <td>[Noodle]</td>\n",
       "      <td>https://www.zomato.com/pune/liyo-china-bt-kawa...</td>\n",
       "      <td>[CasualDining, B.T.KawadeRoad, Thai, Chinese, ...</td>\n",
       "    </tr>\n",
       "  </tbody>\n",
       "</table>\n",
       "<p>1572 rows × 10 columns</p>\n",
       "</div>"
      ],
      "text/plain": [
       "                                              rest_name            rest_type  \\\n",
       "0     Mix@36 - The Westin                           ...             [Lounge]   \n",
       "1     Kangan - The Westin                           ...         [FineDining]   \n",
       "2     Coriander Kitchen - Conrad Pune               ...         [FineDining]   \n",
       "3     The Market - The Westin                       ...         [FineDining]   \n",
       "4     Vandaag - Vivanta Pune                        ...  [Pub, CasualDining]   \n",
       "...                                                 ...                  ...   \n",
       "1567  Awadh E Malwa                                 ...         [QuickBites]   \n",
       "1568  Anandi Dining Hall                            ...       [CasualDining]   \n",
       "1569  The Irani Cafe Restaurant                     ...       [CasualDining]   \n",
       "1570  Hotel Shilpa Gavran                           ...       [CasualDining]   \n",
       "1571    Liyo China                                            [CasualDining]   \n",
       "\n",
       "                               loc dine_rating dine_reviews  \\\n",
       "0             [TheWestin, Mundhwa]       [4.2]        [707]   \n",
       "1             [TheWestin, Mundhwa]       [4.1]        [344]   \n",
       "2     [ConradPune, BundGardenRoad]       [4.5]        [541]   \n",
       "3             [TheWestin, Mundhwa]       [4.0]         [55]   \n",
       "4         [VivantaPune, Hinjewadi]       [3.9]        [113]   \n",
       "...                            ...         ...          ...   \n",
       "1567                     [Bavdhan]       [4.0]        [190]   \n",
       "1568                 [SinhgadRoad]       [3.6]         [64]   \n",
       "1569                  [VimanNagar]       [2.9]         [80]   \n",
       "1570                      [Pimpri]       [3.8]         [90]   \n",
       "1571              [B.T.KawadeRoad]       [3.6]         [97]   \n",
       "\n",
       "                                  cuisine    cost  \\\n",
       "0       [NorthIndian, Continental, Asian]  [4300]   \n",
       "1                [NorthIndian, Mughlai, ]  [3500]   \n",
       "2     [Mediterranean, Asian, NorthIndian]  [3200]   \n",
       "3          [Asian, European, NorthIndian]  [3200]   \n",
       "4             [FingerFood, Continental, ]  [3100]   \n",
       "...                                   ...     ...   \n",
       "1567       [Biryani, Awadhi, NorthIndian]   [600]   \n",
       "1568                    [Maharashtrian, ]   [400]   \n",
       "1569                 [Mughlai, Iranian, ]   [800]   \n",
       "1570     [Chinese, FastFood, NorthIndian]   [500]   \n",
       "1571                    [Thai, Chinese, ]   [500]   \n",
       "\n",
       "                                             liked  \\\n",
       "0                         [Cocktails, Chaat, Beer]   \n",
       "1                [Biryani, VegPlatter, DalMakhani]   \n",
       "2                       [Pasta, Panipuri, Waffles]   \n",
       "3                  [VanillaIceCream, Chaat, Sushi]   \n",
       "4               [Cocktails, Beer, PeriPeriChicken]   \n",
       "...                                            ...   \n",
       "1567  [ChickenMasala, CreamChicken, ButterChicken]   \n",
       "1568                                    [VegThali]   \n",
       "1569               [Naan, MuttonKeema, DumBiryani]   \n",
       "1570                   [MuttonThali, ChickenSukha]   \n",
       "1571                                      [Noodle]   \n",
       "\n",
       "                                                   link  \\\n",
       "0     https://www.zomato.com/pune/mix@36-the-westin-...   \n",
       "1     https://www.zomato.com/pune/kangan-the-westin-...   \n",
       "2     https://www.zomato.com/pune/coriander-kitchen-...   \n",
       "3     https://www.zomato.com/pune/the-market-the-wes...   \n",
       "4     https://www.zomato.com/pune/vandaag-vivanta-pu...   \n",
       "...                                                 ...   \n",
       "1567  https://www.zomato.com/pune/awadh-e-malwa-bavdhan   \n",
       "1568  https://www.zomato.com/pune/anandi-dining-hall...   \n",
       "1569  https://www.zomato.com/pune/the-irani-cafe-res...   \n",
       "1570  https://www.zomato.com/pune/hotel-shilpa-gavra...   \n",
       "1571  https://www.zomato.com/pune/liyo-china-bt-kawa...   \n",
       "\n",
       "                                                   tags  \n",
       "0     [Lounge, TheWestin, Mundhwa, NorthIndian, Cont...  \n",
       "1     [FineDining, TheWestin, Mundhwa, NorthIndian, ...  \n",
       "2     [FineDining, ConradPune, BundGardenRoad, Medit...  \n",
       "3     [FineDining, TheWestin, Mundhwa, Asian, Europe...  \n",
       "4     [Pub, CasualDining, VivantaPune, Hinjewadi, Fi...  \n",
       "...                                                 ...  \n",
       "1567  [QuickBites, Bavdhan, Biryani, Awadhi, NorthIn...  \n",
       "1568  [CasualDining, SinhgadRoad, Maharashtrian, , V...  \n",
       "1569  [CasualDining, VimanNagar, Mughlai, Iranian, ,...  \n",
       "1570  [CasualDining, Pimpri, Chinese, FastFood, Nort...  \n",
       "1571  [CasualDining, B.T.KawadeRoad, Thai, Chinese, ...  \n",
       "\n",
       "[1572 rows x 10 columns]"
      ]
     },
     "execution_count": 81,
     "metadata": {},
     "output_type": "execute_result"
    }
   ],
   "source": [
    "hotels "
   ]
  },
  {
   "cell_type": "code",
   "execution_count": 22,
   "id": "78425050",
   "metadata": {},
   "outputs": [
    {
     "name": "stdout",
     "output_type": "stream",
     "text": [
      "<class 'pandas.core.frame.DataFrame'>\n",
      "RangeIndex: 5433 entries, 0 to 5432\n",
      "Data columns (total 9 columns):\n",
      " #   Column        Non-Null Count  Dtype  \n",
      "---  ------        --------------  -----  \n",
      " 0   rest_name     5433 non-null   object \n",
      " 1   rest_type     4336 non-null   object \n",
      " 2   loc           5433 non-null   object \n",
      " 3   dine_rating   4829 non-null   float64\n",
      " 4   dine_reviews  4829 non-null   object \n",
      " 5   cuisine       5433 non-null   object \n",
      " 6   cost          5433 non-null   object \n",
      " 7   liked         2603 non-null   object \n",
      " 8   link          5433 non-null   object \n",
      "dtypes: float64(1), object(8)\n",
      "memory usage: 382.1+ KB\n"
     ]
    }
   ],
   "source": [
    "hotels.info()"
   ]
  },
  {
   "cell_type": "code",
   "execution_count": 23,
   "id": "c8ea97e8",
   "metadata": {},
   "outputs": [
    {
     "data": {
      "text/plain": [
       "rest_name          0\n",
       "rest_type       1097\n",
       "loc                0\n",
       "dine_rating      604\n",
       "dine_reviews     604\n",
       "cuisine            0\n",
       "cost               0\n",
       "liked           2830\n",
       "link               0\n",
       "dtype: int64"
      ]
     },
     "execution_count": 23,
     "metadata": {},
     "output_type": "execute_result"
    }
   ],
   "source": [
    "hotels.isnull().sum()"
   ]
  },
  {
   "cell_type": "code",
   "execution_count": 24,
   "id": "2dcb4916",
   "metadata": {},
   "outputs": [],
   "source": [
    "hotels.drop_duplicates(inplace=True)"
   ]
  },
  {
   "cell_type": "code",
   "execution_count": 25,
   "id": "cc2135cb",
   "metadata": {},
   "outputs": [
    {
     "data": {
      "text/plain": [
       "(5211, 9)"
      ]
     },
     "execution_count": 25,
     "metadata": {},
     "output_type": "execute_result"
    }
   ],
   "source": [
    "\n",
    "hotels.shape"
   ]
  },
  {
   "cell_type": "code",
   "execution_count": 26,
   "id": "a9effef5",
   "metadata": {},
   "outputs": [],
   "source": [
    "duplicate_rows = hotels[hotels.duplicated(['rest_name','loc'], keep=False)]"
   ]
  },
  {
   "cell_type": "code",
   "execution_count": 27,
   "id": "e788dada",
   "metadata": {},
   "outputs": [
    {
     "name": "stdout",
     "output_type": "stream",
     "text": [
      "                                              rest_name      rest_type  \\\n",
      "777   PK Biryani House\\r\\n                          ...  Casual Dining   \n",
      "799         KFC\\r\\n                                        Quick Bites   \n",
      "800         KFC\\r\\n                                        Quick Bites   \n",
      "807   McDonald's\\r\\n                                ...    Quick Bites   \n",
      "809   McDonald's\\r\\n                                ...    Quick Bites   \n",
      "...                                                 ...            ...   \n",
      "5253  The Brooklyn Creamery\\r\\n                     ...            NaN   \n",
      "5255  The Brooklyn Creamery\\r\\n                     ...            NaN   \n",
      "5257  The Brooklyn Creamery\\r\\n                     ...            NaN   \n",
      "5258  The Brooklyn Creamery\\r\\n                     ...            NaN   \n",
      "5260  The Brooklyn Creamery\\r\\n                     ...            NaN   \n",
      "\n",
      "                            loc  dine_rating dine_reviews  \\\n",
      "777                 Karve Nagar          4.1      (1,482)   \n",
      "799   Seasons Mall, Magarpatta           3.4          (0)   \n",
      "800   Seasons Mall, Magarpatta           3.4          (0)   \n",
      "807                Sinhgad Road          3.9        (493)   \n",
      "809                   Hinjawadi          3.8        (920)   \n",
      "...                         ...          ...          ...   \n",
      "5253                   Wanowrie          NaN          NaN   \n",
      "5255               Pimple Gurav          NaN          NaN   \n",
      "5257               Pimple Gurav          NaN          NaN   \n",
      "5258                  Hinjawadi          NaN          NaN   \n",
      "5260                  Hinjawadi          NaN          NaN   \n",
      "\n",
      "                                      cuisine     cost  \\\n",
      "777             Seafood,North Indian,Biryani,  Rs. 700   \n",
      "799   Beverages,Finger Food,Fast Food,Burger,  Rs. 450   \n",
      "800   Beverages,Finger Food,Fast Food,Burger,  Rs. 450   \n",
      "807                         Fast Food,Burger,  Rs. 500   \n",
      "809                         Fast Food,Burger,  Rs. 500   \n",
      "...                                       ...      ...   \n",
      "5253                               Ice Cream,  Rs. 150   \n",
      "5255                               Ice Cream,  Rs. 150   \n",
      "5257                               Ice Cream,  Rs. 150   \n",
      "5258                               Ice Cream,  Rs. 150   \n",
      "5260                               Ice Cream,  Rs. 150   \n",
      "\n",
      "                                                  liked  \\\n",
      "777   Paneer Tikka Masala, Wings, Pandhra Rassa, Chi...   \n",
      "799                                                 NaN   \n",
      "800                                                 NaN   \n",
      "807   Burgers, Coffee, Mcaloo Tikki, Coke Float, Per...   \n",
      "809   Burgers, Coke Float, French Fries, Cappuccino,...   \n",
      "...                                                 ...   \n",
      "5253                                                NaN   \n",
      "5255                                                NaN   \n",
      "5257                                                NaN   \n",
      "5258                                                NaN   \n",
      "5260                                                NaN   \n",
      "\n",
      "                                                   link  \n",
      "777   https://www.zomato.com/pune/pk-biryani-house-k...  \n",
      "799          https://www.zomato.com/pune/kfc-4-hadapsar  \n",
      "800        https://www.zomato.com/pune/kfc-3-magarpatta  \n",
      "807   https://www.zomato.com/pune/mcdonalds-sinhgad-...  \n",
      "809     https://www.zomato.com/pune/mcdonalds-hinjawadi  \n",
      "...                                                 ...  \n",
      "5253  https://www.zomato.com/pune/the-brooklyn-cream...  \n",
      "5255  https://www.zomato.com/pune/the-brooklyn-cream...  \n",
      "5257  https://www.zomato.com/pune/the-brooklyn-cream...  \n",
      "5258  https://www.zomato.com/pune/the-brooklyn-cream...  \n",
      "5260  https://www.zomato.com/pune/the-brooklyn-cream...  \n",
      "\n",
      "[618 rows x 9 columns]\n"
     ]
    }
   ],
   "source": [
    "print(duplicate_rows)"
   ]
  },
  {
   "cell_type": "code",
   "execution_count": 28,
   "id": "10452072",
   "metadata": {},
   "outputs": [],
   "source": [
    "hotels = hotels.drop_duplicates(['rest_name','loc'])"
   ]
  },
  {
   "cell_type": "markdown",
   "id": "fe2a7993",
   "metadata": {},
   "source": [
    "--reset and shape--"
   ]
  },
  {
   "cell_type": "code",
   "execution_count": 29,
   "id": "39f60e33",
   "metadata": {},
   "outputs": [],
   "source": [
    "duplicate_rows = hotels[hotels.duplicated(['rest_name'], keep=False)]"
   ]
  },
  {
   "cell_type": "code",
   "execution_count": 30,
   "id": "896b8b5c",
   "metadata": {
    "scrolled": true
   },
   "outputs": [
    {
     "name": "stdout",
     "output_type": "stream",
     "text": [
      "                                              rest_name          rest_type  \\\n",
      "57    Little Italy\\r\\r\\n                            ...      Casual Dining   \n",
      "61    Little Italy\\r\\r\\n                            ...      Casual Dining   \n",
      "62    Little Italy\\r\\r\\n                            ...      Casual Dining   \n",
      "63    Little Italy\\r\\r\\n                            ...  Casual Dining,Bar   \n",
      "64    Little Italy\\r\\r\\n                            ...                NaN   \n",
      "...                                                 ...                ...   \n",
      "5335  Khana Khajana\\r\\n                             ...        Quick Bites   \n",
      "5341  Punjabi Rasoi\\r\\n                             ...        Quick Bites   \n",
      "5352  Punjabi Rasoi\\r\\n                             ...      Casual Dining   \n",
      "5353  Hotel Reddy\\r\\n                               ...        Quick Bites   \n",
      "5417  Punjabi Rasoi\\r\\n                             ...                NaN   \n",
      "\n",
      "                   loc  dine_rating   dine_reviews  \\\n",
      "57             Kondhwa          4.2          (687)   \n",
      "61    Bund Garden Road          4.5        (1,126)   \n",
      "62           Chinchwad          4.2          (640)   \n",
      "63       Shivaji Nagar          4.5        (2,698)   \n",
      "64             Kharadi          3.4   (72 Reviews)   \n",
      "...                ...          ...            ...   \n",
      "5335         NIBM Road          3.6          (204)   \n",
      "5341     Koregaon Park          2.8          (325)   \n",
      "5352            Pimpri          3.1           (96)   \n",
      "5353          Hadapsar          3.4           (45)   \n",
      "5417             Baner          4.0  (137 Reviews)   \n",
      "\n",
      "                                     cuisine       cost  \\\n",
      "57    Beverages,Salad,Pizza,Mexican,Italian,  Rs. 2,000   \n",
      "61    Beverages,Salad,Pizza,Mexican,Italian,  Rs. 2,000   \n",
      "62                Beverages,Mexican,Italian,  Rs. 2,000   \n",
      "63                Beverages,Mexican,Italian,  Rs. 1,500   \n",
      "64                          Mexican,Italian,    Rs. 200   \n",
      "...                                      ...        ...   \n",
      "5335                   North Indian,Chinese,    Rs. 400   \n",
      "5341                   Mughlai,North Indian,    Rs. 450   \n",
      "5352         Chinese,North Indian,Fast Food,    Rs. 700   \n",
      "5353             Kebab,Chinese,North Indian,    Rs. 600   \n",
      "5417                           North Indian,    Rs. 300   \n",
      "\n",
      "                                                  liked  \\\n",
      "57    Pizza, Nachos, Chocolate Bomb, Ravioli, Lasagn...   \n",
      "61    Pasta, Pizza, Nachos, Salad, Chocolate Bomb, M...   \n",
      "62    Pasta, Pizza, Nachos, Salad, Brownie, Tiramisu...   \n",
      "63    Pasta, Pizza, Nachos, Tiramisu, Lasagne, Salad...   \n",
      "64                                                  NaN   \n",
      "...                                                 ...   \n",
      "5335                                                NaN   \n",
      "5341  Butter Chicken, Dal Makhani, Chicken Tikka, Pa...   \n",
      "5352                                              Thali   \n",
      "5353                                                NaN   \n",
      "5417                                                NaN   \n",
      "\n",
      "                                                   link  \n",
      "57     https://www.zomato.com/pune/little-italy-kondhwa  \n",
      "61    https://www.zomato.com/pune/little-italy-bund-...  \n",
      "62    https://www.zomato.com/pune/little-italy-chinc...  \n",
      "63    https://www.zomato.com/pune/little-italy-shiva...  \n",
      "64     https://www.zomato.com/pune/little-italy-kharadi  \n",
      "...                                                 ...  \n",
      "5335  https://www.zomato.com/pune/khana-khajana-nibm...  \n",
      "5341  https://www.zomato.com/pune/punjabi-rasoi-kore...  \n",
      "5352   https://www.zomato.com/pune/punjabi-rasoi-pimpri  \n",
      "5353   https://www.zomato.com/pune/hotel-reddy-hadapsar  \n",
      "5417    https://www.zomato.com/pune/punjabi-rasoi-baner  \n",
      "\n",
      "[2221 rows x 9 columns]\n"
     ]
    }
   ],
   "source": [
    "print(duplicate_rows)"
   ]
  },
  {
   "cell_type": "code",
   "execution_count": 31,
   "id": "978495a6",
   "metadata": {},
   "outputs": [],
   "source": [
    "hotels = hotels.drop_duplicates(['rest_name'])"
   ]
  },
  {
   "cell_type": "markdown",
   "id": "22099474",
   "metadata": {},
   "source": [
    "--reset and shape--"
   ]
  },
  {
   "cell_type": "code",
   "execution_count": 32,
   "id": "df9dc26c",
   "metadata": {},
   "outputs": [],
   "source": [
    "hotels.dropna(inplace=True)"
   ]
  },
  {
   "cell_type": "code",
   "execution_count": 33,
   "id": "c0e8412c",
   "metadata": {},
   "outputs": [],
   "source": [
    "hotels.reset_index(drop=True, inplace=True)"
   ]
  },
  {
   "cell_type": "code",
   "execution_count": 34,
   "id": "5c18b9b6",
   "metadata": {},
   "outputs": [
    {
     "data": {
      "text/plain": [
       "(1572, 9)"
      ]
     },
     "execution_count": 34,
     "metadata": {},
     "output_type": "execute_result"
    }
   ],
   "source": [
    "hotels.shape"
   ]
  },
  {
   "cell_type": "code",
   "execution_count": 35,
   "id": "fac7a4b3",
   "metadata": {},
   "outputs": [],
   "source": [
    "hotels[['dine_rating','dine_reviews','cost']] = hotels[['dine_rating','dine_reviews','cost']].astype(str)"
   ]
  },
  {
   "cell_type": "code",
   "execution_count": 36,
   "id": "7f99702c",
   "metadata": {},
   "outputs": [
    {
     "data": {
      "text/plain": [
       "'Pub,Casual Dining'"
      ]
     },
     "execution_count": 36,
     "metadata": {},
     "output_type": "execute_result"
    }
   ],
   "source": [
    "hotels['rest_type'][4]"
   ]
  },
  {
   "cell_type": "code",
   "execution_count": 37,
   "id": "d1b51e78",
   "metadata": {},
   "outputs": [],
   "source": [
    "def reviewshandle(value):\n",
    "    if 'Reviews' in value:\n",
    "        value = value.replace(\"Reviews\", \"\")\n",
    "    if '(' in value:\n",
    "        value = value.replace('(','')\n",
    "    if ')' in value:\n",
    "        value = value.replace(')','')\n",
    "        return value\n",
    "    else:\n",
    "        return value    "
   ]
  },
  {
   "cell_type": "code",
   "execution_count": 38,
   "id": "e3a73acc",
   "metadata": {},
   "outputs": [],
   "source": [
    "hotels['dine_reviews'] = hotels['dine_reviews'].apply(reviewshandle)"
   ]
  },
  {
   "cell_type": "code",
   "execution_count": 39,
   "id": "07cdafd0",
   "metadata": {},
   "outputs": [
    {
     "data": {
      "text/plain": [
       "<bound method Series.unique of 0       707 \n",
       "1       344 \n",
       "2       541 \n",
       "3        55 \n",
       "4       113 \n",
       "        ... \n",
       "1567     190\n",
       "1568      64\n",
       "1569     80 \n",
       "1570     90 \n",
       "1571      97\n",
       "Name: dine_reviews, Length: 1572, dtype: object>"
      ]
     },
     "execution_count": 39,
     "metadata": {},
     "output_type": "execute_result"
    }
   ],
   "source": [
    "hotels['dine_reviews'].unique"
   ]
  },
  {
   "cell_type": "code",
   "execution_count": 40,
   "id": "e503545b",
   "metadata": {},
   "outputs": [],
   "source": [
    "def costhandle(value):\n",
    "    if 'Rs.' in value:\n",
    "        value = value.replace('Rs.','')\n",
    "    if ',' in value:\n",
    "        value = value.replace(',','')\n",
    "        return value\n",
    "    else:\n",
    "        return value"
   ]
  },
  {
   "cell_type": "code",
   "execution_count": 41,
   "id": "228b3425",
   "metadata": {},
   "outputs": [],
   "source": [
    "hotels['cost'] = hotels['cost'].apply(costhandle)"
   ]
  },
  {
   "cell_type": "code",
   "execution_count": 42,
   "id": "cb21cd57",
   "metadata": {},
   "outputs": [],
   "source": [
    "def convert3(obj):\n",
    "    obj_list = obj.split(',')\n",
    "    first_three = obj_list[:3]\n",
    "    return first_three"
   ]
  },
  {
   "cell_type": "code",
   "execution_count": 43,
   "id": "af8b9766",
   "metadata": {},
   "outputs": [
    {
     "data": {
      "text/plain": [
       "0                  Lounge\n",
       "1             Fine Dining\n",
       "2             Fine Dining\n",
       "3             Fine Dining\n",
       "4       Pub,Casual Dining\n",
       "              ...        \n",
       "1567          Quick Bites\n",
       "1568        Casual Dining\n",
       "1569        Casual Dining\n",
       "1570        Casual Dining\n",
       "1571        Casual Dining\n",
       "Name: rest_type, Length: 1572, dtype: object"
      ]
     },
     "execution_count": 43,
     "metadata": {},
     "output_type": "execute_result"
    }
   ],
   "source": [
    "hotels['rest_type'] "
   ]
  },
  {
   "cell_type": "code",
   "execution_count": 44,
   "id": "0e46afa9",
   "metadata": {},
   "outputs": [],
   "source": [
    "hotels['liked'] = hotels['liked'].apply(convert3)"
   ]
  },
  {
   "cell_type": "code",
   "execution_count": 45,
   "id": "92761e62",
   "metadata": {},
   "outputs": [],
   "source": [
    "hotels['cuisine'] = hotels['cuisine'].apply(convert3)"
   ]
  },
  {
   "cell_type": "code",
   "execution_count": 46,
   "id": "6c7dc900",
   "metadata": {},
   "outputs": [],
   "source": [
    "#unused\n",
    "def convert(obj):\n",
    "    obj_list = obj.split(',')\n",
    "    first=[] \n",
    "    first.append(obj_list[0])\n",
    "    return first"
   ]
  },
  {
   "cell_type": "code",
   "execution_count": 47,
   "id": "35b5780f",
   "metadata": {},
   "outputs": [],
   "source": [
    "def convertall(obj):\n",
    "    obj_list = obj.split(',')\n",
    "\n",
    "    return obj_list"
   ]
  },
  {
   "cell_type": "code",
   "execution_count": 48,
   "id": "30aee663",
   "metadata": {},
   "outputs": [],
   "source": [
    "hotels['loc'] = hotels['loc'].apply(convertall)"
   ]
  },
  {
   "cell_type": "code",
   "execution_count": 49,
   "id": "557e766f",
   "metadata": {},
   "outputs": [],
   "source": [
    "hotels['rest_type'] = hotels['rest_type'].apply(convertall)"
   ]
  },
  {
   "cell_type": "code",
   "execution_count": 50,
   "id": "9edd595c",
   "metadata": {},
   "outputs": [],
   "source": [
    "def convert_num(obj):\n",
    "    first=[] \n",
    "    first.append(obj)\n",
    "    return first"
   ]
  },
  {
   "cell_type": "code",
   "execution_count": 51,
   "id": "83c75a22",
   "metadata": {},
   "outputs": [],
   "source": [
    "hotels['dine_rating'] = hotels['dine_rating'].apply(convert_num)\n",
    "hotels['dine_reviews'] = hotels['dine_reviews'].apply(convert_num)\n",
    "hotels['cost'] = hotels['cost'].apply(convert_num)"
   ]
  },
  {
   "cell_type": "code",
   "execution_count": 52,
   "id": "98d344ae",
   "metadata": {},
   "outputs": [],
   "source": [
    "#unused\n",
    "import re\n",
    "\n",
    "def add_space_before_newline(text):\n",
    "    if '\\r\\r\\n' in text:\n",
    "        return re.sub(r'(\\w)(\\r\\r\\n)', r'\\1 \\2', text)\n",
    "    elif '\\r\\n' in text:\n",
    "        return re.sub(r'(\\w)(\\r\\n)', r'\\1 \\2', text)\n",
    "    else:\n",
    "        return text"
   ]
  },
  {
   "cell_type": "code",
   "execution_count": 53,
   "id": "081261fb",
   "metadata": {},
   "outputs": [],
   "source": [
    "#unused\n",
    "def namehandle(value):\n",
    "    if '\\r\\r\\n' in value:\n",
    "        value = value.replace('\\r\\r\\n', '')\n",
    "    elif '\\r\\n' in value:\n",
    "        value = value.replace('\\r\\n', '')\n",
    "    else:\n",
    "        return value"
   ]
  },
  {
   "cell_type": "code",
   "execution_count": 54,
   "id": "06f9a869",
   "metadata": {},
   "outputs": [],
   "source": [
    "import re\n",
    "\n",
    "def add_space_and_remove(text):\n",
    "    modified_text = re.sub(r'(\\w)(\\r\\r\\n|\\r\\n)', r'\\1 \\2', text)\n",
    "    return re.sub(r'\\r\\r\\n|\\r\\n', '', modified_text)"
   ]
  },
  {
   "cell_type": "code",
   "execution_count": 55,
   "id": "3f4d0e9b",
   "metadata": {},
   "outputs": [],
   "source": [
    "hotels['rest_name'] = hotels['rest_name'].apply(add_space_and_remove)"
   ]
  },
  {
   "cell_type": "code",
   "execution_count": 56,
   "id": "f8627c19",
   "metadata": {},
   "outputs": [],
   "source": [
    "hotels['cuisine'] = hotels['cuisine'].apply(lambda x:[i.replace(\" \", \"\") for i in x])\n",
    "hotels['liked'] = hotels['liked'].apply(lambda x:[i.replace(\" \", \"\") for i in x])\n",
    "hotels['loc'] = hotels['loc'].apply(lambda x:[i.replace(\" \", \"\") for i in x])\n",
    "# hotels['rest_name'] = hotels['rest_name'].apply(lambda x:x.replace(\" \", \"\"))"
   ]
  },
  {
   "cell_type": "code",
   "execution_count": 57,
   "id": "5a736dee",
   "metadata": {},
   "outputs": [],
   "source": [
    "hotels['rest_type'] = hotels['rest_type'].apply(lambda x:[i.replace(\" \", \"\") for i in x])"
   ]
  },
  {
   "cell_type": "code",
   "execution_count": 58,
   "id": "f5a7035f",
   "metadata": {},
   "outputs": [],
   "source": [
    "hotels['dine_reviews'] = hotels['dine_reviews'].apply(lambda x:[i.replace(\" \", \"\") for i in x])\n",
    "hotels['cost'] = hotels['cost'].apply(lambda x:[i.replace(\" \", \"\") for i in x])"
   ]
  },
  {
   "cell_type": "code",
   "execution_count": 59,
   "id": "37762e48",
   "metadata": {},
   "outputs": [],
   "source": [
    "hotels['tags'] = hotels['rest_type']+hotels['loc']+hotels['cuisine']+hotels['liked']+hotels['dine_rating']+hotels['dine_reviews']+hotels['cost']"
   ]
  },
  {
   "cell_type": "code",
   "execution_count": 60,
   "id": "e1ff5885",
   "metadata": {
    "scrolled": true
   },
   "outputs": [
    {
     "data": {
      "text/plain": [
       "['Lounge',\n",
       " 'TheWestin',\n",
       " 'Mundhwa',\n",
       " 'NorthIndian',\n",
       " 'Continental',\n",
       " 'Asian',\n",
       " 'Cocktails',\n",
       " 'Chaat',\n",
       " 'Beer',\n",
       " '4.2',\n",
       " '707',\n",
       " '4300']"
      ]
     },
     "execution_count": 60,
     "metadata": {},
     "output_type": "execute_result"
    }
   ],
   "source": [
    "hotels['tags'][0]"
   ]
  },
  {
   "cell_type": "code",
   "execution_count": 61,
   "id": "1aa50fbd",
   "metadata": {},
   "outputs": [],
   "source": [
    "df = hotels[['rest_name','tags','link']]"
   ]
  },
  {
   "cell_type": "code",
   "execution_count": 62,
   "id": "330eea6c",
   "metadata": {},
   "outputs": [
    {
     "data": {
      "text/html": [
       "<div>\n",
       "<style scoped>\n",
       "    .dataframe tbody tr th:only-of-type {\n",
       "        vertical-align: middle;\n",
       "    }\n",
       "\n",
       "    .dataframe tbody tr th {\n",
       "        vertical-align: top;\n",
       "    }\n",
       "\n",
       "    .dataframe thead th {\n",
       "        text-align: right;\n",
       "    }\n",
       "</style>\n",
       "<table border=\"1\" class=\"dataframe\">\n",
       "  <thead>\n",
       "    <tr style=\"text-align: right;\">\n",
       "      <th></th>\n",
       "      <th>rest_name</th>\n",
       "      <th>tags</th>\n",
       "      <th>link</th>\n",
       "    </tr>\n",
       "  </thead>\n",
       "  <tbody>\n",
       "    <tr>\n",
       "      <th>0</th>\n",
       "      <td>Mix@36 - The Westin                           ...</td>\n",
       "      <td>[Lounge, TheWestin, Mundhwa, NorthIndian, Cont...</td>\n",
       "      <td>https://www.zomato.com/pune/mix@36-the-westin-...</td>\n",
       "    </tr>\n",
       "    <tr>\n",
       "      <th>1</th>\n",
       "      <td>Kangan - The Westin                           ...</td>\n",
       "      <td>[FineDining, TheWestin, Mundhwa, NorthIndian, ...</td>\n",
       "      <td>https://www.zomato.com/pune/kangan-the-westin-...</td>\n",
       "    </tr>\n",
       "    <tr>\n",
       "      <th>2</th>\n",
       "      <td>Coriander Kitchen - Conrad Pune               ...</td>\n",
       "      <td>[FineDining, ConradPune, BundGardenRoad, Medit...</td>\n",
       "      <td>https://www.zomato.com/pune/coriander-kitchen-...</td>\n",
       "    </tr>\n",
       "    <tr>\n",
       "      <th>3</th>\n",
       "      <td>The Market - The Westin                       ...</td>\n",
       "      <td>[FineDining, TheWestin, Mundhwa, Asian, Europe...</td>\n",
       "      <td>https://www.zomato.com/pune/the-market-the-wes...</td>\n",
       "    </tr>\n",
       "    <tr>\n",
       "      <th>4</th>\n",
       "      <td>Vandaag - Vivanta Pune                        ...</td>\n",
       "      <td>[Pub, CasualDining, VivantaPune, Hinjewadi, Fi...</td>\n",
       "      <td>https://www.zomato.com/pune/vandaag-vivanta-pu...</td>\n",
       "    </tr>\n",
       "    <tr>\n",
       "      <th>...</th>\n",
       "      <td>...</td>\n",
       "      <td>...</td>\n",
       "      <td>...</td>\n",
       "    </tr>\n",
       "    <tr>\n",
       "      <th>1567</th>\n",
       "      <td>Awadh E Malwa                                 ...</td>\n",
       "      <td>[QuickBites, Bavdhan, Biryani, Awadhi, NorthIn...</td>\n",
       "      <td>https://www.zomato.com/pune/awadh-e-malwa-bavdhan</td>\n",
       "    </tr>\n",
       "    <tr>\n",
       "      <th>1568</th>\n",
       "      <td>Anandi Dining Hall                            ...</td>\n",
       "      <td>[CasualDining, SinhgadRoad, Maharashtrian, , V...</td>\n",
       "      <td>https://www.zomato.com/pune/anandi-dining-hall...</td>\n",
       "    </tr>\n",
       "    <tr>\n",
       "      <th>1569</th>\n",
       "      <td>The Irani Cafe Restaurant                     ...</td>\n",
       "      <td>[CasualDining, VimanNagar, Mughlai, Iranian, ,...</td>\n",
       "      <td>https://www.zomato.com/pune/the-irani-cafe-res...</td>\n",
       "    </tr>\n",
       "    <tr>\n",
       "      <th>1570</th>\n",
       "      <td>Hotel Shilpa Gavran                           ...</td>\n",
       "      <td>[CasualDining, Pimpri, Chinese, FastFood, Nort...</td>\n",
       "      <td>https://www.zomato.com/pune/hotel-shilpa-gavra...</td>\n",
       "    </tr>\n",
       "    <tr>\n",
       "      <th>1571</th>\n",
       "      <td>Liyo China</td>\n",
       "      <td>[CasualDining, B.T.KawadeRoad, Thai, Chinese, ...</td>\n",
       "      <td>https://www.zomato.com/pune/liyo-china-bt-kawa...</td>\n",
       "    </tr>\n",
       "  </tbody>\n",
       "</table>\n",
       "<p>1572 rows × 3 columns</p>\n",
       "</div>"
      ],
      "text/plain": [
       "                                              rest_name  \\\n",
       "0     Mix@36 - The Westin                           ...   \n",
       "1     Kangan - The Westin                           ...   \n",
       "2     Coriander Kitchen - Conrad Pune               ...   \n",
       "3     The Market - The Westin                       ...   \n",
       "4     Vandaag - Vivanta Pune                        ...   \n",
       "...                                                 ...   \n",
       "1567  Awadh E Malwa                                 ...   \n",
       "1568  Anandi Dining Hall                            ...   \n",
       "1569  The Irani Cafe Restaurant                     ...   \n",
       "1570  Hotel Shilpa Gavran                           ...   \n",
       "1571    Liyo China                                        \n",
       "\n",
       "                                                   tags  \\\n",
       "0     [Lounge, TheWestin, Mundhwa, NorthIndian, Cont...   \n",
       "1     [FineDining, TheWestin, Mundhwa, NorthIndian, ...   \n",
       "2     [FineDining, ConradPune, BundGardenRoad, Medit...   \n",
       "3     [FineDining, TheWestin, Mundhwa, Asian, Europe...   \n",
       "4     [Pub, CasualDining, VivantaPune, Hinjewadi, Fi...   \n",
       "...                                                 ...   \n",
       "1567  [QuickBites, Bavdhan, Biryani, Awadhi, NorthIn...   \n",
       "1568  [CasualDining, SinhgadRoad, Maharashtrian, , V...   \n",
       "1569  [CasualDining, VimanNagar, Mughlai, Iranian, ,...   \n",
       "1570  [CasualDining, Pimpri, Chinese, FastFood, Nort...   \n",
       "1571  [CasualDining, B.T.KawadeRoad, Thai, Chinese, ...   \n",
       "\n",
       "                                                   link  \n",
       "0     https://www.zomato.com/pune/mix@36-the-westin-...  \n",
       "1     https://www.zomato.com/pune/kangan-the-westin-...  \n",
       "2     https://www.zomato.com/pune/coriander-kitchen-...  \n",
       "3     https://www.zomato.com/pune/the-market-the-wes...  \n",
       "4     https://www.zomato.com/pune/vandaag-vivanta-pu...  \n",
       "...                                                 ...  \n",
       "1567  https://www.zomato.com/pune/awadh-e-malwa-bavdhan  \n",
       "1568  https://www.zomato.com/pune/anandi-dining-hall...  \n",
       "1569  https://www.zomato.com/pune/the-irani-cafe-res...  \n",
       "1570  https://www.zomato.com/pune/hotel-shilpa-gavra...  \n",
       "1571  https://www.zomato.com/pune/liyo-china-bt-kawa...  \n",
       "\n",
       "[1572 rows x 3 columns]"
      ]
     },
     "execution_count": 62,
     "metadata": {},
     "output_type": "execute_result"
    }
   ],
   "source": [
    "df"
   ]
  },
  {
   "cell_type": "code",
   "execution_count": 63,
   "id": "14c4c256",
   "metadata": {},
   "outputs": [
    {
     "name": "stderr",
     "output_type": "stream",
     "text": [
      "/var/folders/lp/3pg1pm7x4fq16yzd6ncss4lc0000gr/T/ipykernel_21495/863369503.py:1: SettingWithCopyWarning: \n",
      "A value is trying to be set on a copy of a slice from a DataFrame.\n",
      "Try using .loc[row_indexer,col_indexer] = value instead\n",
      "\n",
      "See the caveats in the documentation: https://pandas.pydata.org/pandas-docs/stable/user_guide/indexing.html#returning-a-view-versus-a-copy\n",
      "  df['tags'] = df['tags'].apply(lambda x:\" \".join(x))\n"
     ]
    }
   ],
   "source": [
    "df['tags'] = df['tags'].apply(lambda x:\" \".join(x)) "
   ]
  },
  {
   "cell_type": "code",
   "execution_count": 64,
   "id": "88a3fa84",
   "metadata": {},
   "outputs": [
    {
     "name": "stderr",
     "output_type": "stream",
     "text": [
      "/var/folders/lp/3pg1pm7x4fq16yzd6ncss4lc0000gr/T/ipykernel_21495/1119052810.py:1: SettingWithCopyWarning: \n",
      "A value is trying to be set on a copy of a slice from a DataFrame.\n",
      "Try using .loc[row_indexer,col_indexer] = value instead\n",
      "\n",
      "See the caveats in the documentation: https://pandas.pydata.org/pandas-docs/stable/user_guide/indexing.html#returning-a-view-versus-a-copy\n",
      "  df['tags'] = df['tags'].apply(lambda x:x.lower())\n"
     ]
    }
   ],
   "source": [
    "df['tags'] = df['tags'].apply(lambda x:x.lower()) "
   ]
  },
  {
   "cell_type": "code",
   "execution_count": 65,
   "id": "129a5774",
   "metadata": {},
   "outputs": [
    {
     "data": {
      "text/plain": [
       "'lounge thewestin mundhwa northindian continental asian cocktails chaat beer 4.2 707 4300'"
      ]
     },
     "execution_count": 65,
     "metadata": {},
     "output_type": "execute_result"
    }
   ],
   "source": [
    "df['tags'][0]"
   ]
  },
  {
   "cell_type": "code",
   "execution_count": 66,
   "id": "fe48353b",
   "metadata": {},
   "outputs": [],
   "source": [
    "from sklearn.feature_extraction.text import CountVectorizer\n",
    "cv = CountVectorizer(max_features=2182, stop_words='english')"
   ]
  },
  {
   "cell_type": "code",
   "execution_count": 67,
   "id": "5e539577",
   "metadata": {},
   "outputs": [],
   "source": [
    "vectors = cv.fit_transform(df['tags']).toarray()"
   ]
  },
  {
   "cell_type": "code",
   "execution_count": 68,
   "id": "3f00bfa3",
   "metadata": {},
   "outputs": [
    {
     "data": {
      "text/plain": [
       "array([0, 0, 0, ..., 0, 0, 0])"
      ]
     },
     "execution_count": 68,
     "metadata": {},
     "output_type": "execute_result"
    }
   ],
   "source": [
    "vectors[0]"
   ]
  },
  {
   "cell_type": "code",
   "execution_count": 69,
   "id": "55760766",
   "metadata": {},
   "outputs": [
    {
     "data": {
      "text/plain": [
       "1572"
      ]
     },
     "execution_count": 69,
     "metadata": {},
     "output_type": "execute_result"
    }
   ],
   "source": [
    "len(vectors)"
   ]
  },
  {
   "cell_type": "code",
   "execution_count": 70,
   "id": "71cb9561",
   "metadata": {},
   "outputs": [
    {
     "name": "stdout",
     "output_type": "stream",
     "text": [
      "['001' '004' '005' ... 'yerawada' 'zaatar' 'zucchinisoup']\n"
     ]
    }
   ],
   "source": [
    "featurenames=cv.get_feature_names_out()\n",
    "print(featurenames)"
   ]
  },
  {
   "cell_type": "code",
   "execution_count": 71,
   "id": "de1daf7e",
   "metadata": {},
   "outputs": [],
   "source": [
    "from sklearn.metrics.pairwise import cosine_similarity"
   ]
  },
  {
   "cell_type": "code",
   "execution_count": 72,
   "id": "9e91128d",
   "metadata": {},
   "outputs": [],
   "source": [
    "similarity = cosine_similarity(vectors)"
   ]
  },
  {
   "cell_type": "code",
   "execution_count": 73,
   "id": "84ffbceb",
   "metadata": {},
   "outputs": [],
   "source": [
    "#re lib\n",
    "\n",
    "def normalize_name(name):\n",
    "    # Remove extra spaces and convert to lowercase\n",
    "    return re.sub(r'[^\\w\\s]', '', name).strip().lower()"
   ]
  },
  {
   "cell_type": "code",
   "execution_count": 74,
   "id": "80adfb95",
   "metadata": {},
   "outputs": [],
   "source": [
    "def recommend(hotel):\n",
    "    hotel = normalize_name(hotel)\n",
    "    hotel_index = df[df['rest_name'].apply(normalize_name).str.contains(hotel)].index[0]\n",
    "    distances = similarity[hotel_index]\n",
    "    hotels_list = sorted(list(enumerate(distances)),reverse=True,key = lambda x:x[1])[1:6]\n",
    "    \n",
    "    for i in hotels_list:\n",
    "        print(df.iloc[i[0]].rest_name)"
   ]
  },
  {
   "cell_type": "code",
   "execution_count": 80,
   "id": "55c0d264",
   "metadata": {},
   "outputs": [
    {
     "name": "stdout",
     "output_type": "stream",
     "text": [
      "Wadeshwar                                     \n",
      "Shree Krishna Veg Court                                     \n",
      "Wagh Bakri Tea Lounge                                     \n",
      "Niranjan Veg Restaurant                                     \n",
      "Supriya Restaurant                                     \n"
     ]
    }
   ],
   "source": [
    "recommend('vaishali')"
   ]
  },
  {
   "cell_type": "code",
   "execution_count": 76,
   "id": "a79185b2",
   "metadata": {},
   "outputs": [],
   "source": [
    "pickle.dump(df.to_dict(), open('hotel_dict.pkl','wb'))"
   ]
  },
  {
   "cell_type": "code",
   "execution_count": 77,
   "id": "d77362e9",
   "metadata": {},
   "outputs": [],
   "source": [
    "pickle.dump(similarity, open('hotel_similarity.pkl','wb'))"
   ]
  },
  {
   "cell_type": "markdown",
   "id": "8b5ab8d9",
   "metadata": {},
   "source": [
    "Evaluation"
   ]
  },
  {
   "cell_type": "code",
   "execution_count": null,
   "id": "0cb21c58",
   "metadata": {},
   "outputs": [],
   "source": []
  }
 ],
 "metadata": {
  "kernelspec": {
   "display_name": "Python 3 (ipykernel)",
   "language": "python",
   "name": "python3"
  },
  "language_info": {
   "codemirror_mode": {
    "name": "ipython",
    "version": 3
   },
   "file_extension": ".py",
   "mimetype": "text/x-python",
   "name": "python",
   "nbconvert_exporter": "python",
   "pygments_lexer": "ipython3",
   "version": "3.11.5"
  }
 },
 "nbformat": 4,
 "nbformat_minor": 5
}
